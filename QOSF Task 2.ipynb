{
 "cells": [
  {
   "cell_type": "code",
   "execution_count": 6,
   "metadata": {},
   "outputs": [],
   "source": [
    "from qiskit import *\n",
    "from math import *\n",
    "from qiskit.visualization import *\n",
    "from qiskit.providers.aer.noise import NoiseModel\n",
    "from qiskit.providers.aer.noise.errors.standard_errors import pauli_error, depolarizing_error\n",
    "import numpy as np\n",
    "import matplotlib as plt\n",
    "\n",
    "#need to create bell pair of |01> and |10>"
   ]
  },
  {
   "cell_type": "code",
   "execution_count": 7,
   "metadata": {},
   "outputs": [],
   "source": [
    "#Defining functions to be used for Gradient Descent algorithm\n",
    "\n",
    "\n",
    "def deriv(x, case):\n",
    "    \n",
    "    '''\n",
    "    Description: This function takes in a value of x and returns its derivative based on the \n",
    "    initial function we specified.\n",
    "    \n",
    "    Arguments:\n",
    "    x - a numerical value of x \n",
    "    case - to check for which gate it's being called for \n",
    "    \n",
    "    Returns:\n",
    "    x_deriv - a numerical value of the derivative of x\n",
    "    \n",
    "    '''\n",
    "    if case == 'RY':\n",
    "        x_deriv = 2* (x) - np.pi        #for RY Gate\n",
    "        \n",
    "    elif case == 'RX':\n",
    "        x_deriv = 2* (x) - 2* (np.pi)   #for RX Gate\n",
    "    \n",
    "    return x_deriv\n",
    "    \n",
    "    \n",
    "\n",
    "def step(x_new, x_prev, precision, l_r, case, function):\n",
    "    \n",
    "    '''\n",
    "    Description: This function takes in an initial or previous value for x, updates it based on \n",
    "    steps taken via the learning rate and outputs the most minimum value of x that reaches the precision satisfaction.\n",
    "    \n",
    "    Arguments:\n",
    "    x_new - a starting value of x that will get updated based on the learning rate\n",
    "    x_prev - the previous value of x that is getting updated to the new one\n",
    "    precision - a precision that determines the stop of the stepwise descent \n",
    "    l_r - the learning rate (size of each descent step)\n",
    "    \n",
    "    Output:\n",
    "    x_new - minimum value obtianed after after gradient descent\n",
    "    \n",
    "    '''\n",
    "    \n",
    "    # create empty lists where the updated values of x and y wil be appended during each iteration\n",
    "    \n",
    "    x_list, y_list = [x_new], [function(x_new)]\n",
    "    # keep looping until your desired precision\n",
    "    while abs(x_new - x_prev) > precision:\n",
    "        \n",
    "        # change the value of x\n",
    "        x_prev = x_new\n",
    "        \n",
    "        # get the derivation of the old value of x\n",
    "        d_x = - deriv(x_prev, case)\n",
    "        \n",
    "        # get your new value of x by adding the previous, the multiplication of the derivative and the learning rate\n",
    "        x_new = x_prev + (l_r * d_x)\n",
    "        \n",
    "\n",
    "    '''    \n",
    "    Prints the minimum values obtained\n",
    "    print (\"Local minimum occurs at: \"+ str(x_new))\n",
    "    print (\"Number of steps: \" + str(len(x_list)))\n",
    "    \n",
    "    '''\n",
    "    return x_new"
   ]
  },
  {
   "cell_type": "code",
   "execution_count": 21,
   "metadata": {},
   "outputs": [],
   "source": [
    "def get_noise(p_meas,p_gate):\n",
    "\n",
    "    error_meas = pauli_error([('X',p_meas), ('I', 1 - p_meas)])\n",
    "    error_gate1 = depolarizing_error(p_gate, 1) \n",
    "    error_gate2 = depolarizing_error(p_gate, 1)\n",
    "    error_gate3 = error_gate1.tensor(error_gate1)\n",
    "    \n",
    "\n",
    "    noise_model = NoiseModel()\n",
    "    noise_model.add_all_qubit_quantum_error(error_meas, \"measure\") # measurement error is applied to measurements\n",
    "    noise_model.add_all_qubit_quantum_error(error_gate1, [\"ry\"]) # single qubit gate error is applied to ry gates\n",
    "    noise_model.add_all_qubit_quantum_error(error_gate2, [\"rx\"]) # single qubit gate error is applied to rx gates\n",
    "    noise_model.add_all_qubit_quantum_error(error_gate3, [\"cx\"]) # two qubit gate error is applied to cx gates\n",
    "        \n",
    "    return noise_model"
   ]
  },
  {
   "cell_type": "code",
   "execution_count": 22,
   "metadata": {},
   "outputs": [
    {
     "data": {
      "image/png": "[encoded data removed]",
      "text/plain": [
       "<Figure size 381.432x204.68 with 1 Axes>"
      ]
     },
     "execution_count": 22,
     "metadata": {},
     "output_type": "execute_result"
    }
   ],
   "source": [
    "#initialize a 2 qubit circuit with 2 classical bits\n",
    "qc = QuantumCircuit(2,2)\n",
    "\n",
    "##apply H gate to first qubit which is same as RY with theta=pi/2\n",
    "\n",
    "#Gradient Descent algorithm for RY Gate where \n",
    "grad_function = lambda x: (x ** 2)-(np.pi *(x))+(((np.pi) ** 2)/4)\n",
    "theta_ry = step(np.pi*2*(np.random.random(1)[0]), 0, 0.000001, 0.05, 'RY', grad_function)\n",
    "\n",
    "#RY on qubit_0\n",
    "qc.ry(theta_ry, 0)\n",
    "\n",
    "##apply X gate to second qubit which is same as RX with theta=pi\n",
    "\n",
    "#Gradient Descent algorithm for RX Gate\n",
    "grad_function = lambda x: (x ** 2)-(np.pi *(x) *2)+((np.pi) ** 2) \n",
    "theta_rx = step(np.pi*2*(np.random.random(1)[0]), 0, 0.000001, 0.05, 'RX', grad_function)\n",
    "\n",
    "#RX on qubit_1\n",
    "qc.rx(theta_rx, 1)\n",
    "\n",
    "#apply CNOT gate to convert into Bell States\n",
    "qc.cx(0,1)\n",
    "\n",
    "#applying the noise model\n",
    "noise_model = get_noise(0.01, 0.01)\n",
    "\n",
    "qc.measure([0,1],[0,1])\n",
    "\n",
    "#Draw the resulting circuit\n",
    "qc.draw(output='mpl')"
   ]
  },
  {
   "cell_type": "code",
   "execution_count": 23,
   "metadata": {},
   "outputs": [
    {
     "data": {
      "image/png": "[encoded data removed]",
      "text/plain": [
       "<Figure size 504x360 with 1 Axes>"
      ]
     },
     "execution_count": 23,
     "metadata": {},
     "output_type": "execute_result"
    }
   ],
   "source": [
    "#result\n",
    "backend = Aer.get_backend('qasm_simulator')\n",
    "counts1 = execute(qc, backend, shots = 1, noise_model = noise_model).result().get_counts()\n",
    "counts10 = execute(qc, backend, shots = 10, noise_model = noise_model).result().get_counts()\n",
    "counts100 = execute(qc, backend, shots = 100, noise_model = noise_model).result().get_counts()\n",
    "counts1000 = execute(qc, backend, shots = 1000, noise_model = noise_model).result().get_counts()\n",
    "\n",
    "#plot the result in a single histogrm\n",
    "legend = ['m=1', 'm=10', 'm=100', 'm=1000']\n",
    "plot_histogram([counts1, counts10, counts100, counts1000], legend = legend)"
   ]
  },
  {
   "cell_type": "code",
   "execution_count": 60,
   "metadata": {},
   "outputs": [
    {
     "name": "stdout",
     "output_type": "stream",
     "text": [
      "479\n"
     ]
    }
   ],
   "source": []
  },
  {
   "cell_type": "code",
   "execution_count": null,
   "metadata": {},
   "outputs": [],
   "source": []
  },
  {
   "cell_type": "code",
   "execution_count": null,
   "metadata": {},
   "outputs": [],
   "source": []
  }
 ],
 "metadata": {
  "kernelspec": {
   "display_name": "Python 3",
   "language": "python",
   "name": "python3"
  },
  "language_info": {
   "codemirror_mode": {
    "name": "ipython",
    "version": 3
   },
   "file_extension": ".py",
   "mimetype": "text/x-python",
   "name": "python",
   "nbconvert_exporter": "python",
   "pygments_lexer": "ipython3",
   "version": "3.7.6"
  }
 },
 "nbformat": 4,
 "nbformat_minor": 4
}
